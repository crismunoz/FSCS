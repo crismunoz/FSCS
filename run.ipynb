{
 "cells": [
  {
   "cell_type": "code",
   "execution_count": 1,
   "metadata": {},
   "outputs": [],
   "source": [
    "import sys\n",
    "sys.path = ['D:\\personal\\Cristian\\GitHub\\HAI-BM\\holisticai']  + sys.path"
   ]
  },
  {
   "cell_type": "code",
   "execution_count": 2,
   "metadata": {},
   "outputs": [],
   "source": [
    "import numpy as np\n",
    "import pandas as pd\n",
    "from sklearn.model_selection import train_test_split\n",
    "from holisticai.datasets import load_adult\n",
    "def load_preprocessed_adult():\n",
    "    dataset = load_adult()\n",
    "    df = pd.concat([dataset[\"data\"], dataset[\"target\"]], axis=1)\n",
    "    protected_variables = [\"sex\", \"race\"]\n",
    "    output_variable = [\"class\"]\n",
    "    favorable_label = 1\n",
    "    unfavorable_label = 0\n",
    "\n",
    "    y = df[output_variable].replace(\n",
    "        {\">50K\": favorable_label, \"<=50K\": unfavorable_label}\n",
    "    )\n",
    "    x = pd.get_dummies(df.drop(protected_variables + output_variable, axis=1))\n",
    "\n",
    "    group = [\"sex\"]\n",
    "    group_a = df[group] == \"Female\"\n",
    "    group_b = df[group] == \"Male\"\n",
    "    data = [x, y, group_a, group_b]\n",
    "\n",
    "    dataset = train_test_split(*data, test_size=0.5, shuffle=True)\n",
    "    train_data = dataset[::2]\n",
    "    test_data = dataset[1::2]\n",
    "    return train_data, test_data"
   ]
  },
  {
   "cell_type": "code",
   "execution_count": 3,
   "metadata": {},
   "outputs": [
    {
     "name": "stderr",
     "output_type": "stream",
     "text": [
      "c:\\Users\\Cristian\\anaconda3\\envs\\metrics\\lib\\site-packages\\tqdm\\auto.py:22: TqdmWarning: IProgress not found. Please update jupyter and ipywidgets. See https://ipywidgets.readthedocs.io/en/stable/user_install.html\n",
      "  from .autonotebook import tqdm as notebook_tqdm\n"
     ]
    }
   ],
   "source": [
    "\n",
    "from data_utils import BDataset\n",
    "import numpy as np\n",
    "from holisticai.utils.transformers.bias import SensitiveGroups\n",
    "from holisticai.bias.metrics import multiclass_bias_metrics\n",
    "from tests.testing_utils._tests_data_utils import load_preprocessed_us_crime\n",
    "\n",
    "device='cpu'\n",
    "hidden_size = 80\n",
    "lambd = 0.7\n",
    "nb_classes = 5\n",
    "train_data, test_data = load_preprocessed_us_crime(nb_classes=nb_classes)\n",
    "#train_data, test_data = load_preprocessed_adult()\n",
    "train_data = [np.array(d) for d in train_data]\n",
    "from sklearn.preprocessing import StandardScaler\n",
    "train_data[0] =  StandardScaler().fit_transform(train_data[0])\n",
    "train_data[1] =  train_data[1].flatten()\n",
    "sens_groups = SensitiveGroups()\n",
    "\n",
    "x, y, group_a, group_b = train_data\n",
    "\n",
    "input_size = x.shape[1]\n",
    "\n",
    "sensitive_features = np.c_[group_a, group_b]\n",
    "groups_num = np.array(\n",
    "    sens_groups.fit_transform(sensitive_features, convert_numeric=True)\n",
    ")\n",
    "\n",
    "ratio = groups_num.sum() / len(groups_num)\n",
    "dataset = BDataset(x, y, groups_num, device=device)"
   ]
  },
  {
   "cell_type": "code",
   "execution_count": 4,
   "metadata": {},
   "outputs": [],
   "source": [
    "def evaluate_classifier(y, y_pred, group_a,group_b):\n",
    "    from holisticai.bias.metrics import multiclass_bias_metrics\n",
    "    from sklearn.metrics import accuracy_score\n",
    "    import numpy as np\n",
    "    acc = accuracy_score(y,y_pred)\n",
    "    group_num = sens_groups.transform(np.c_[group_a,group_b], convert_numeric=True)\n",
    "    df_baseline = multiclass_bias_metrics(group_num, y_pred, y, metric_type='both')\n",
    "    print(acc)\n",
    "    print(df_baseline)"
   ]
  },
  {
   "cell_type": "code",
   "execution_count": 5,
   "metadata": {},
   "outputs": [],
   "source": [
    "import random\n",
    "import torch\n",
    "import torch.nn as nn\n",
    "from torch_utils import FeaturizerPhi\n",
    "\n",
    "class ClassifierModel(nn.Module):\n",
    "    def __init__(self, input_size, hidden_size, truncated=False, nb_classes=None):\n",
    "        # Define the featurizer layers.\n",
    "        super().__init__()\n",
    "        self.truncated = truncated\n",
    "        \n",
    "        self.layers = nn.Sequential(\n",
    "            nn.Linear(input_size, hidden_size),\n",
    "            nn.SELU())\n",
    "        \n",
    "        if not self.truncated:\n",
    "            self.output_layer = nn.Linear(hidden_size, nb_classes)\n",
    "            \n",
    "    def forward(self, X):\n",
    "        X = self.layers(X)\n",
    "        if not self.truncated:\n",
    "            return self.output_layer(X)\n",
    "        return X"
   ]
  },
  {
   "cell_type": "code",
   "execution_count": 6,
   "metadata": {},
   "outputs": [
    {
     "name": "stderr",
     "output_type": "stream",
     "text": [
      "100%|██████████| 20/20 [00:02<00:00,  9.43it/s]\n"
     ]
    }
   ],
   "source": [
    "from trainer import Trainer,TrainArgs\n",
    "from algorithm_utils import Estimator\n",
    "\n",
    "classifier = ClassifierModel(input_size, hidden_size=hidden_size, nb_classes=nb_classes)\n",
    "\n",
    "train_args = TrainArgs(epochs=20)\n",
    "trainer = Trainer(train_args=train_args, model=classifier, dataset=dataset)\n",
    "trainer.train()\n",
    "\n",
    "estimator_baseline = Estimator(classifier)"
   ]
  },
  {
   "cell_type": "code",
   "execution_count": 7,
   "metadata": {},
   "outputs": [
    {
     "name": "stdout",
     "output_type": "stream",
     "text": [
      "0.8594730238393977\n",
      "                                             Value  Reference\n",
      "Metric                                                       \n",
      "Max Multiclass Statistical Parity         0.539401          0\n",
      "Mean Multiclass Statistical Parity        0.539401          0\n",
      "Max Multiclass Equality of Opportunity    0.352973          0\n",
      "Max Multiclass Average Odds               0.352973          0\n",
      "Max Multiclass True Positive Difference   0.352973          0\n",
      "Mean Multiclass Equality of Opportunity   0.352973          0\n",
      "Mean Multiclass Average Odds              0.352973          0\n",
      "Mean Multiclass True Positive Difference  0.352973          0\n"
     ]
    }
   ],
   "source": [
    "y_pred = estimator_baseline.predict(x)\n",
    "evaluate_classifier(y, y_pred, group_a, group_b)"
   ]
  },
  {
   "cell_type": "code",
   "execution_count": 8,
   "metadata": {},
   "outputs": [
    {
     "name": "stderr",
     "output_type": "stream",
     "text": [
      "100%|██████████| 20/20 [00:14<00:00,  1.41it/s]\n"
     ]
    }
   ],
   "source": [
    "from torch_utils import TwoLayerNN\n",
    "from trainer import TrainerFSCS,TrainArgs\n",
    "\n",
    "\n",
    "classifier = ClassifierModel(input_size, hidden_size=hidden_size, truncated=True)\n",
    "fscs_model = TwoLayerNN(hidden_size=hidden_size, phi=classifier, nb_classes=nb_classes, ratio=1-ratio)\n",
    "\n",
    "train_args = TrainArgs(epochs=20)\n",
    "trainer = TrainerFSCS(train_args=train_args, model=fscs_model, dataset=dataset, lambd=lambd)\n",
    "trainer.train()"
   ]
  },
  {
   "cell_type": "code",
   "execution_count": 9,
   "metadata": {},
   "outputs": [],
   "source": [
    "from algorithm_utils import Estimator\n",
    "def predictor(x , d):\n",
    "    return fscs_model(x,d)[0]\n",
    "\n",
    "estimator = Estimator(predictor= predictor)"
   ]
  },
  {
   "cell_type": "code",
   "execution_count": 10,
   "metadata": {},
   "outputs": [
    {
     "name": "stdout",
     "output_type": "stream",
     "text": [
      "0.8350062735257214\n",
      "                                             Value  Reference\n",
      "Metric                                                       \n",
      "Max Multiclass Statistical Parity         0.503945          0\n",
      "Mean Multiclass Statistical Parity        0.503945          0\n",
      "Max Multiclass Equality of Opportunity    0.357258          0\n",
      "Max Multiclass Average Odds               0.357258          0\n",
      "Max Multiclass True Positive Difference   0.357258          0\n",
      "Mean Multiclass Equality of Opportunity   0.357258          0\n",
      "Mean Multiclass Average Odds              0.357258          0\n",
      "Mean Multiclass True Positive Difference  0.357258          0\n"
     ]
    }
   ],
   "source": [
    "group_num = sens_groups.transform(np.c_[group_a,group_b], convert_numeric=True)\n",
    "y_pred = estimator.predict(x, group_num)\n",
    "evaluate_classifier(y, y_pred, group_a, group_b)"
   ]
  },
  {
   "cell_type": "code",
   "execution_count": 11,
   "metadata": {},
   "outputs": [],
   "source": [
    "from algorithm_utils import explore_coverage\n",
    "\n",
    "y_proba_baseline = estimator_baseline.predict_proba(x)\n",
    "y_proba = estimator.predict_proba(x, group_num)\n",
    "\n",
    "res_baseline = explore_coverage(y_proba_baseline, y, group_num)\n",
    "res = explore_coverage(y_proba, y, group_num)"
   ]
  },
  {
   "cell_type": "code",
   "execution_count": 12,
   "metadata": {},
   "outputs": [
    {
     "data": {
      "image/png": "[encoded data removed]",
      "text/plain": [
       "<Figure size 432x288 with 1 Axes>"
      ]
     },
     "metadata": {
      "needs_background": "light"
     },
     "output_type": "display_data"
    }
   ],
   "source": [
    "import matplotlib.pyplot as plt\n",
    "plt.plot(res_baseline[1],res_baseline[0])\n",
    "plt.plot(res[1],res[0])\n",
    "plt.legend(['baseline', 'FSCS'])\n",
    "plt.grid()"
   ]
  }
 ],
 "metadata": {
  "kernelspec": {
   "display_name": "Python 3.9.12 ('metrics')",
   "language": "python",
   "name": "python3"
  },
  "language_info": {
   "codemirror_mode": {
    "name": "ipython",
    "version": 3
   },
   "file_extension": ".py",
   "mimetype": "text/x-python",
   "name": "python",
   "nbconvert_exporter": "python",
   "pygments_lexer": "ipython3",
   "version": "3.9.12"
  },
  "orig_nbformat": 4,
  "vscode": {
   "interpreter": {
    "hash": "9ce100595ae63371127da51ea64be910b7c4b0de39dc50c38822dd5588773933"
   }
  }
 },
 "nbformat": 4,
 "nbformat_minor": 2
}
